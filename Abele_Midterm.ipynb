{
 "cells": [
  {
   "cell_type": "markdown",
   "id": "a943812b-9f2e-4469-a51a-4911f30c5e5e",
   "metadata": {},
   "source": [
    "### Importing Libraries"
   ]
  },
  {
   "cell_type": "markdown",
   "id": "7f224cc1-035b-4399-94f5-1acc77c9e121",
   "metadata": {},
   "source": [
    "#### Using MongoDB and MySQL"
   ]
  },
  {
   "cell_type": "code",
   "execution_count": 13,
   "id": "b17be29e-12ab-4994-a1cc-f36894b4ef54",
   "metadata": {},
   "outputs": [],
   "source": [
    "import os\n",
    "import json\n",
    "import numpy\n",
    "import datetime\n",
    "import certifi\n",
    "import pandas as pd\n",
    "\n",
    "import pymongo\n",
    "import sqlalchemy\n",
    "from sqlalchemy import create_engine, text"
   ]
  },
  {
   "cell_type": "code",
   "execution_count": 15,
   "id": "5d7c81cc-3201-4db7-a77b-7331cf2a51e5",
   "metadata": {},
   "outputs": [
    {
     "name": "stdout",
     "output_type": "stream",
     "text": [
      "Running SQL Alchemy Version: 2.0.30\n",
      "Running PyMongo Version: 4.10.1\n"
     ]
    }
   ],
   "source": [
    "print(f\"Running SQL Alchemy Version: {sqlalchemy.__version__}\")\n",
    "print(f\"Running PyMongo Version: {pymongo.__version__}\")"
   ]
  },
  {
   "cell_type": "markdown",
   "id": "3d93aac0-66cd-4bd7-a4a3-d83b64d19f62",
   "metadata": {},
   "source": [
    "### Declare and Assign Connection Variables"
   ]
  },
  {
   "cell_type": "markdown",
   "id": "0d28e4eb-aac3-4a19-b976-027c7b5a2480",
   "metadata": {},
   "source": [
    "#### Taking these from Lab 3 and 4 and Combining Them"
   ]
  },
  {
   "cell_type": "code",
   "execution_count": 19,
   "id": "1626bfd1-6d73-4e37-9e28-ff594f480371",
   "metadata": {},
   "outputs": [],
   "source": [
    "host_name = \"localhost\"\n",
    "port = \"3306\"\n",
    "user_id = \"root\"\n",
    "pwd = \"tyler123\"\n",
    "\n",
    "src_dbname = \"sakila\"\n",
    "dst_dbname = \"sakila_dw\"\n",
    "\n",
    "MySQL_args = {\n",
    "    \"uid\" : \"root\",\n",
    "    \"pwd\" : \"tyler123\",\n",
    "    \"hostname\" : \"localhost\",\n",
    "   \"dbname\" : \"sakila\"\n",
    "}\n",
    "dw_args = {\n",
    "    \"uid\" : \"root\",\n",
    "    \"pwd\" : \"tyler123\",\n",
    "    \"hostname\" : \"localhost\",\n",
    "   \"dbname\" : \"sakila_dw\"\n",
    "}\n",
    "\n",
    "mongodb_args = {\n",
    "    \"user_name\" : \"hcabele\",\n",
    "    \"password\" : \"Claire123\",\n",
    "    \"cluster_name\" : \"hannahacluster\",\n",
    "    \"cluster_subnet\" : \"gjgoj\",\n",
    "    \"cluster_location\" : \"atlas\", # \"local\"\n",
    "    \"db_name\" : \"sakila_dw2\"\n",
    "}"
   ]
  },
  {
   "cell_type": "markdown",
   "id": "a381a06a-63af-4a1d-9e81-ca6653172957",
   "metadata": {},
   "source": [
    "### Define Functions for Getting Data from and Setting Databases"
   ]
  },
  {
   "cell_type": "markdown",
   "id": "0a8e25bf-7621-4a0e-98d8-2501a221e961",
   "metadata": {},
   "source": [
    "#### Combining Lab 3 and Lab 4 Defining Function Statements and Renaming Some of the \"def\" Equations to Separate the SQL and Mongo Statements"
   ]
  },
  {
   "cell_type": "code",
   "execution_count": 23,
   "id": "b8e2bd3d-3e02-466b-841f-7f0e8be93a9d",
   "metadata": {},
   "outputs": [],
   "source": [
    "def get_dataframe(user_id, pwd, host_name, db_name, sql_query):\n",
    "    conn_str = f\"mysql+pymysql://{user_id}:{pwd}@{host_name}/{db_name}\"\n",
    "    sqlEngine = create_engine(conn_str, pool_recycle=3600)\n",
    "    connection = sqlEngine.connect()\n",
    "    dframe = pd.read_sql(sql_query, connection);\n",
    "    connection.close()\n",
    "    \n",
    "    return dframe\n",
    "\n",
    "\n",
    "def set_sql_dataframe(user_id, pwd, host_name, db_name, df, table_name, pk_column, db_operation):\n",
    "    conn_str = f\"mysql+pymysql://{user_id}:{pwd}@{host_name}/{db_name}\"\n",
    "    sqlEngine = create_engine(conn_str, pool_recycle=3600)\n",
    "    connection = sqlEngine.connect()\n",
    "    \n",
    "    if db_operation == \"insert\":\n",
    "        df.to_sql(table_name, con=connection, index=False, if_exists='replace')\n",
    "        connection.execute(text(f\"ALTER TABLE {table_name} ADD PRIMARY KEY ({pk_column});\"))\n",
    "            \n",
    "    elif db_operation == \"update\":\n",
    "        df.to_sql(table_name, con=connection, index=False, if_exists='append')\n",
    "    \n",
    "    connection.close()\n",
    "def get_sql_dataframe(sql_query, **args):\n",
    "    '''Create a connection to the MySQL database'''\n",
    "    conn_str = f\"mysql+pymysql://{args['uid']}:{args['pwd']}@{args['hostname']}/{args['dbname']}\"\n",
    "    sqlEngine = create_engine(conn_str, pool_recycle=3600)\n",
    "    connection = sqlEngine.connect()\n",
    "    \n",
    "    '''Invoke the pd.read_sql() function to query the database, and fill a Pandas DataFrame.'''\n",
    "    dframe = pd.read_sql(text(sql_query), connection);\n",
    "    connection.close()\n",
    "    \n",
    "    return dframe\n",
    "    \n",
    "\n",
    "def set_dataframe(df, table_name, pk_column, db_operation, **args):\n",
    "    '''Create a connection to the MySQL database'''\n",
    "    conn_str = f\"mysql+pymysql://{args['uid']}:{args['pwd']}@{args['hostname']}/{args['dbname']}\"\n",
    "    sqlEngine = create_engine(conn_str, pool_recycle=3600)\n",
    "    connection = sqlEngine.connect()\n",
    "    \n",
    "    '''Invoke the Pandas DataFrame .to_sql( ) function to either create, or append to, a table'''\n",
    "    if db_operation == \"insert\":\n",
    "        df.to_sql(table_name, con=connection, index=False, if_exists='replace')\n",
    "        connection.execute(text(f\"ALTER TABLE {table_name} ADD PRIMARY KEY ({pk_column});\"))\n",
    "            \n",
    "    elif db_operation == \"update\":\n",
    "        df.to_sql(table_name, con=connection, index=False, if_exists='append')\n",
    "    \n",
    "    connection.close()\n",
    "\n",
    "\n",
    "def get_mongo_client(**args):\n",
    "    '''Validate proper input'''\n",
    "    if args[\"cluster_location\"] not in ['atlas', 'local']:\n",
    "        raise Exception(\"You must specify either 'atlas' or 'local' for the cluster_location parameter.\")\n",
    "    \n",
    "    else:\n",
    "        if args[\"cluster_location\"] == \"atlas\":\n",
    "            connect_str = f\"mongodb+srv://{args['user_name']}:{args['password']}@\"\n",
    "            connect_str += f\"{args['cluster_name']}.{args['cluster_subnet']}.mongodb.net\"\n",
    "            client = pymongo.MongoClient(connect_str, tlsCAFile=certifi.where())\n",
    "            \n",
    "        elif args[\"cluster_location\"] == \"local\":\n",
    "            client = pymongo.MongoClient(\"mongodb://localhost:27017/\")\n",
    "        \n",
    "    return client\n",
    "\n",
    "\n",
    "def get_mongo_dataframe(mongo_client, db_name, collection, query):\n",
    "    '''Query MongoDB, and fill a python list with documents to create a DataFrame'''\n",
    "    db = mongo_client[db_name]\n",
    "    dframe = pd.DataFrame(list(db[collection].find(query)))\n",
    "    dframe.drop(['_id'], axis=1, inplace=True)\n",
    "    mongo_client.close()\n",
    "    \n",
    "    return dframe\n",
    "\n",
    "\n",
    "def set_mongo_collections(mongo_client, db_name, data_directory, json_files):\n",
    "    db = mongo_client[db_name]\n",
    "    \n",
    "    for file in json_files:\n",
    "        db.drop_collection(file)\n",
    "        json_file = os.path.join(data_directory, json_files[file])\n",
    "        with open(json_file, 'r') as openfile:\n",
    "            json_object = json.load(openfile)\n",
    "            file = db[file]\n",
    "            result = file.insert_many(json_object)\n",
    "        \n",
    "    mongo_client.close()"
   ]
  },
  {
   "cell_type": "markdown",
   "id": "64665eb4-804e-4645-908d-b38b57aaec2d",
   "metadata": {},
   "source": [
    "### Create New Datawarehouse database"
   ]
  },
  {
   "cell_type": "markdown",
   "id": "c14b2dd8-3469-410a-8364-b3b469d1c336",
   "metadata": {},
   "source": [
    "#### From Lab 3 in Order to Establish Connection to SQL"
   ]
  },
  {
   "cell_type": "code",
   "execution_count": 27,
   "id": "59ed2c4c-8dcb-4df9-9318-b6db9ed3857b",
   "metadata": {},
   "outputs": [],
   "source": [
    "conn_str = f\"mysql+pymysql://{user_id}:{pwd}@{host_name}\"\n",
    "sqlEngine = create_engine(conn_str, pool_recycle=3600)\n",
    "connection = sqlEngine.connect()\n",
    "\n",
    "connection.execute(text(f\"DROP DATABASE IF EXISTS `{dst_dbname}`;\"))\n",
    "connection.execute(text(f\"CREATE DATABASE `{dst_dbname}`;\"))\n",
    "connection.execute(text(f\"USE {dst_dbname};\"))\n",
    "\n",
    "connection.close()"
   ]
  },
  {
   "cell_type": "markdown",
   "id": "cc2a50c1-5e56-4e06-b5ea-02ce93754b52",
   "metadata": {},
   "source": [
    "### Extract Data From Source Database"
   ]
  },
  {
   "cell_type": "markdown",
   "id": "e163fd80-e12b-4768-befb-1788ea9900e6",
   "metadata": {},
   "source": [
    "#### Taking Data from the Customer Table in Sakila"
   ]
  },
  {
   "cell_type": "code",
   "execution_count": 31,
   "id": "9d09c9f7-20a2-4bcc-a0a9-875731473243",
   "metadata": {},
   "outputs": [
    {
     "data": {
      "text/html": [
       "<div>\n",
       "<style scoped>\n",
       "    .dataframe tbody tr th:only-of-type {\n",
       "        vertical-align: middle;\n",
       "    }\n",
       "\n",
       "    .dataframe tbody tr th {\n",
       "        vertical-align: top;\n",
       "    }\n",
       "\n",
       "    .dataframe thead th {\n",
       "        text-align: right;\n",
       "    }\n",
       "</style>\n",
       "<table border=\"1\" class=\"dataframe\">\n",
       "  <thead>\n",
       "    <tr style=\"text-align: right;\">\n",
       "      <th></th>\n",
       "      <th>customer_id</th>\n",
       "      <th>store_id</th>\n",
       "      <th>first_name</th>\n",
       "      <th>last_name</th>\n",
       "      <th>email</th>\n",
       "      <th>address_id</th>\n",
       "      <th>active</th>\n",
       "      <th>create_date</th>\n",
       "      <th>last_update</th>\n",
       "    </tr>\n",
       "  </thead>\n",
       "  <tbody>\n",
       "    <tr>\n",
       "      <th>0</th>\n",
       "      <td>1</td>\n",
       "      <td>1</td>\n",
       "      <td>MARY</td>\n",
       "      <td>SMITH</td>\n",
       "      <td>MARY.SMITH@sakilacustomer.org</td>\n",
       "      <td>5</td>\n",
       "      <td>1</td>\n",
       "      <td>2006-02-14 22:04:36</td>\n",
       "      <td>2006-02-15 04:57:20</td>\n",
       "    </tr>\n",
       "    <tr>\n",
       "      <th>1</th>\n",
       "      <td>2</td>\n",
       "      <td>1</td>\n",
       "      <td>PATRICIA</td>\n",
       "      <td>JOHNSON</td>\n",
       "      <td>PATRICIA.JOHNSON@sakilacustomer.org</td>\n",
       "      <td>6</td>\n",
       "      <td>1</td>\n",
       "      <td>2006-02-14 22:04:36</td>\n",
       "      <td>2006-02-15 04:57:20</td>\n",
       "    </tr>\n",
       "  </tbody>\n",
       "</table>\n",
       "</div>"
      ],
      "text/plain": [
       "   customer_id  store_id first_name last_name  \\\n",
       "0            1         1       MARY     SMITH   \n",
       "1            2         1   PATRICIA   JOHNSON   \n",
       "\n",
       "                                 email  address_id  active  \\\n",
       "0        MARY.SMITH@sakilacustomer.org           5       1   \n",
       "1  PATRICIA.JOHNSON@sakilacustomer.org           6       1   \n",
       "\n",
       "          create_date         last_update  \n",
       "0 2006-02-14 22:04:36 2006-02-15 04:57:20  \n",
       "1 2006-02-14 22:04:36 2006-02-15 04:57:20  "
      ]
     },
     "execution_count": 31,
     "metadata": {},
     "output_type": "execute_result"
    }
   ],
   "source": [
    "sql_customer = \"SELECT * FROM sakila.customer;\"\n",
    "df_customer = get_dataframe(user_id, pwd, host_name, src_dbname, sql_customer)\n",
    "df_customer.head(2)"
   ]
  },
  {
   "cell_type": "markdown",
   "id": "79cb0a22-2ca2-4251-a5f5-005182695f07",
   "metadata": {},
   "source": [
    "### Transform the Data"
   ]
  },
  {
   "cell_type": "markdown",
   "id": "f609f18d-7fe7-4a21-9509-5b48fb9a4081",
   "metadata": {},
   "source": [
    "#### Dropping Columns that are Unnecessary and Creating a Customer Key"
   ]
  },
  {
   "cell_type": "code",
   "execution_count": 35,
   "id": "617773d7-4a73-4397-8514-25faee2455fa",
   "metadata": {},
   "outputs": [
    {
     "data": {
      "text/html": [
       "<div>\n",
       "<style scoped>\n",
       "    .dataframe tbody tr th:only-of-type {\n",
       "        vertical-align: middle;\n",
       "    }\n",
       "\n",
       "    .dataframe tbody tr th {\n",
       "        vertical-align: top;\n",
       "    }\n",
       "\n",
       "    .dataframe thead th {\n",
       "        text-align: right;\n",
       "    }\n",
       "</style>\n",
       "<table border=\"1\" class=\"dataframe\">\n",
       "  <thead>\n",
       "    <tr style=\"text-align: right;\">\n",
       "      <th></th>\n",
       "      <th>customer_key</th>\n",
       "      <th>customer_id</th>\n",
       "      <th>store_id</th>\n",
       "      <th>first_name</th>\n",
       "      <th>last_name</th>\n",
       "      <th>email</th>\n",
       "      <th>address_id</th>\n",
       "      <th>create_date</th>\n",
       "    </tr>\n",
       "  </thead>\n",
       "  <tbody>\n",
       "    <tr>\n",
       "      <th>0</th>\n",
       "      <td>1</td>\n",
       "      <td>1</td>\n",
       "      <td>1</td>\n",
       "      <td>MARY</td>\n",
       "      <td>SMITH</td>\n",
       "      <td>MARY.SMITH@sakilacustomer.org</td>\n",
       "      <td>5</td>\n",
       "      <td>2006-02-14 22:04:36</td>\n",
       "    </tr>\n",
       "    <tr>\n",
       "      <th>1</th>\n",
       "      <td>2</td>\n",
       "      <td>2</td>\n",
       "      <td>1</td>\n",
       "      <td>PATRICIA</td>\n",
       "      <td>JOHNSON</td>\n",
       "      <td>PATRICIA.JOHNSON@sakilacustomer.org</td>\n",
       "      <td>6</td>\n",
       "      <td>2006-02-14 22:04:36</td>\n",
       "    </tr>\n",
       "  </tbody>\n",
       "</table>\n",
       "</div>"
      ],
      "text/plain": [
       "   customer_key  customer_id  store_id first_name last_name  \\\n",
       "0             1            1         1       MARY     SMITH   \n",
       "1             2            2         1   PATRICIA   JOHNSON   \n",
       "\n",
       "                                 email  address_id         create_date  \n",
       "0        MARY.SMITH@sakilacustomer.org           5 2006-02-14 22:04:36  \n",
       "1  PATRICIA.JOHNSON@sakilacustomer.org           6 2006-02-14 22:04:36  "
      ]
     },
     "execution_count": 35,
     "metadata": {},
     "output_type": "execute_result"
    }
   ],
   "source": [
    "drop_cols = ['last_update','active'] #unnecessary columns\n",
    "df_customer.drop(drop_cols, axis=1, inplace=True)\n",
    "df_customer.insert(0, \"customer_key\", range(1, df_customer.shape[0]+1)) #inserting primary key\n",
    "df_customer.head(2)"
   ]
  },
  {
   "cell_type": "markdown",
   "id": "ffbc8215-c2f5-4428-a5da-32e93dd61249",
   "metadata": {},
   "source": [
    "## Extract Data from Source Database Tables MongoDB"
   ]
  },
  {
   "cell_type": "markdown",
   "id": "a4db299c-23b7-4665-8a1c-b78463d154ff",
   "metadata": {},
   "source": [
    "#### Establishing a Connection to Mongo and Getting the json File for the Sakila Payment Table"
   ]
  },
  {
   "cell_type": "code",
   "execution_count": 39,
   "id": "21df7556-84d7-4497-ad13-0b2a3364143e",
   "metadata": {},
   "outputs": [],
   "source": [
    "client = get_mongo_client(**mongodb_args)\n",
    "\n",
    "data_dir = os.path.join(os.getcwd(), 'data')\n",
    "\n",
    "json_files = {\"payment\" : 'sakila_payment.json',\n",
    "             }\n",
    "\n",
    "set_mongo_collections(client, mongodb_args[\"db_name\"], data_dir, json_files)   "
   ]
  },
  {
   "cell_type": "code",
   "execution_count": 41,
   "id": "beb8f582-d1ad-41a5-a2d7-38c647ef5e4e",
   "metadata": {},
   "outputs": [
    {
     "data": {
      "text/html": [
       "<div>\n",
       "<style scoped>\n",
       "    .dataframe tbody tr th:only-of-type {\n",
       "        vertical-align: middle;\n",
       "    }\n",
       "\n",
       "    .dataframe tbody tr th {\n",
       "        vertical-align: top;\n",
       "    }\n",
       "\n",
       "    .dataframe thead th {\n",
       "        text-align: right;\n",
       "    }\n",
       "</style>\n",
       "<table border=\"1\" class=\"dataframe\">\n",
       "  <thead>\n",
       "    <tr style=\"text-align: right;\">\n",
       "      <th></th>\n",
       "      <th>payment_id</th>\n",
       "      <th>customer_id</th>\n",
       "      <th>staff_id</th>\n",
       "      <th>rental_id</th>\n",
       "      <th>amount</th>\n",
       "      <th>payment_date</th>\n",
       "      <th>last_update</th>\n",
       "    </tr>\n",
       "  </thead>\n",
       "  <tbody>\n",
       "    <tr>\n",
       "      <th>0</th>\n",
       "      <td>1</td>\n",
       "      <td>1</td>\n",
       "      <td>1</td>\n",
       "      <td>76</td>\n",
       "      <td>2.99</td>\n",
       "      <td>2005-05-25 11:30:37</td>\n",
       "      <td>2006-02-15 22:12:30</td>\n",
       "    </tr>\n",
       "    <tr>\n",
       "      <th>1</th>\n",
       "      <td>2</td>\n",
       "      <td>1</td>\n",
       "      <td>1</td>\n",
       "      <td>573</td>\n",
       "      <td>0.99</td>\n",
       "      <td>2005-05-28 10:35:23</td>\n",
       "      <td>2006-02-15 22:12:30</td>\n",
       "    </tr>\n",
       "  </tbody>\n",
       "</table>\n",
       "</div>"
      ],
      "text/plain": [
       "   payment_id  customer_id  staff_id  rental_id  amount         payment_date  \\\n",
       "0           1            1         1         76    2.99  2005-05-25 11:30:37   \n",
       "1           2            1         1        573    0.99  2005-05-28 10:35:23   \n",
       "\n",
       "           last_update  \n",
       "0  2006-02-15 22:12:30  \n",
       "1  2006-02-15 22:12:30  "
      ]
     },
     "execution_count": 41,
     "metadata": {},
     "output_type": "execute_result"
    }
   ],
   "source": [
    "client = get_mongo_client(**mongodb_args)\n",
    "\n",
    "query = {} \n",
    "collection = \"payment\"\n",
    "\n",
    "df_payment = get_mongo_dataframe(client, mongodb_args[\"db_name\"], collection, query)\n",
    "df_payment.head(2)"
   ]
  },
  {
   "cell_type": "markdown",
   "id": "67557145-55db-4af5-809e-6a3175dfaa50",
   "metadata": {},
   "source": [
    "#### Transforming the Data"
   ]
  },
  {
   "cell_type": "markdown",
   "id": "9fb68ad3-ea79-4026-8b2c-3781689c924c",
   "metadata": {},
   "source": [
    "#### Deleting Unnecessary columns and Inserting a Primary Key"
   ]
  },
  {
   "cell_type": "code",
   "execution_count": 45,
   "id": "bf6aec81-c613-4969-a788-23f3be30f105",
   "metadata": {},
   "outputs": [
    {
     "data": {
      "text/html": [
       "<div>\n",
       "<style scoped>\n",
       "    .dataframe tbody tr th:only-of-type {\n",
       "        vertical-align: middle;\n",
       "    }\n",
       "\n",
       "    .dataframe tbody tr th {\n",
       "        vertical-align: top;\n",
       "    }\n",
       "\n",
       "    .dataframe thead th {\n",
       "        text-align: right;\n",
       "    }\n",
       "</style>\n",
       "<table border=\"1\" class=\"dataframe\">\n",
       "  <thead>\n",
       "    <tr style=\"text-align: right;\">\n",
       "      <th></th>\n",
       "      <th>payment_key</th>\n",
       "      <th>payment_id</th>\n",
       "      <th>customer_id</th>\n",
       "      <th>staff_id</th>\n",
       "      <th>rental_id</th>\n",
       "      <th>amount</th>\n",
       "      <th>payment_date</th>\n",
       "    </tr>\n",
       "  </thead>\n",
       "  <tbody>\n",
       "    <tr>\n",
       "      <th>0</th>\n",
       "      <td>1</td>\n",
       "      <td>1</td>\n",
       "      <td>1</td>\n",
       "      <td>1</td>\n",
       "      <td>76</td>\n",
       "      <td>2.99</td>\n",
       "      <td>2005-05-25 11:30:37</td>\n",
       "    </tr>\n",
       "    <tr>\n",
       "      <th>1</th>\n",
       "      <td>2</td>\n",
       "      <td>2</td>\n",
       "      <td>1</td>\n",
       "      <td>1</td>\n",
       "      <td>573</td>\n",
       "      <td>0.99</td>\n",
       "      <td>2005-05-28 10:35:23</td>\n",
       "    </tr>\n",
       "  </tbody>\n",
       "</table>\n",
       "</div>"
      ],
      "text/plain": [
       "   payment_key  payment_id  customer_id  staff_id  rental_id  amount  \\\n",
       "0            1           1            1         1         76    2.99   \n",
       "1            2           2            1         1        573    0.99   \n",
       "\n",
       "          payment_date  \n",
       "0  2005-05-25 11:30:37  \n",
       "1  2005-05-28 10:35:23  "
      ]
     },
     "execution_count": 45,
     "metadata": {},
     "output_type": "execute_result"
    }
   ],
   "source": [
    "df_payment.insert(0, \"payment_key\", range(1, df_payment.shape[0]+1)) #inserting primary key\n",
    "df_payment.drop(['last_update'], axis=1, inplace=True) #unnecessary column\n",
    "df_payment.head(2)"
   ]
  },
  {
   "cell_type": "markdown",
   "id": "c254f102-38cc-44ae-b79d-387c5aa016f1",
   "metadata": {},
   "source": [
    "### Extract Data from CSV File"
   ]
  },
  {
   "cell_type": "markdown",
   "id": "71915f4e-25e2-4019-8dd5-ef7bada64809",
   "metadata": {},
   "source": [
    "#### Collecting the Store Table from my Data Folder in Jupyter After Downloading it as a csv File and Importing it into Jupyter"
   ]
  },
  {
   "cell_type": "code",
   "execution_count": 49,
   "id": "711eb609-5d60-45e7-bda6-c8be5ff92307",
   "metadata": {},
   "outputs": [
    {
     "data": {
      "text/html": [
       "<div>\n",
       "<style scoped>\n",
       "    .dataframe tbody tr th:only-of-type {\n",
       "        vertical-align: middle;\n",
       "    }\n",
       "\n",
       "    .dataframe tbody tr th {\n",
       "        vertical-align: top;\n",
       "    }\n",
       "\n",
       "    .dataframe thead th {\n",
       "        text-align: right;\n",
       "    }\n",
       "</style>\n",
       "<table border=\"1\" class=\"dataframe\">\n",
       "  <thead>\n",
       "    <tr style=\"text-align: right;\">\n",
       "      <th></th>\n",
       "      <th>store_id</th>\n",
       "      <th>manager_staff_id</th>\n",
       "      <th>address_id</th>\n",
       "      <th>last_update</th>\n",
       "    </tr>\n",
       "  </thead>\n",
       "  <tbody>\n",
       "    <tr>\n",
       "      <th>0</th>\n",
       "      <td>1</td>\n",
       "      <td>1</td>\n",
       "      <td>1</td>\n",
       "      <td>2006-02-15 04:57:12</td>\n",
       "    </tr>\n",
       "    <tr>\n",
       "      <th>1</th>\n",
       "      <td>2</td>\n",
       "      <td>2</td>\n",
       "      <td>2</td>\n",
       "      <td>2006-02-15 04:57:12</td>\n",
       "    </tr>\n",
       "  </tbody>\n",
       "</table>\n",
       "</div>"
      ],
      "text/plain": [
       "   store_id  manager_staff_id  address_id          last_update\n",
       "0         1                 1           1  2006-02-15 04:57:12\n",
       "1         2                 2           2  2006-02-15 04:57:12"
      ]
     },
     "execution_count": 49,
     "metadata": {},
     "output_type": "execute_result"
    }
   ],
   "source": [
    "data_dir = os.path.join(os.getcwd(), 'data')\n",
    "data_file = os.path.join(data_dir, 'sakila_store.csv')\n",
    "\n",
    "df_store = pd.read_csv(data_file, header=0)\n",
    "df_store.head(2)"
   ]
  },
  {
   "cell_type": "markdown",
   "id": "62d19bc7-b9ed-41ff-a48a-85f395f9190a",
   "metadata": {},
   "source": [
    "#### Inserting Store Key into sakila_store and Transforming the Data"
   ]
  },
  {
   "cell_type": "code",
   "execution_count": 52,
   "id": "c7adbdcc-9ff2-47af-bf16-01e457d4bb4e",
   "metadata": {},
   "outputs": [
    {
     "data": {
      "text/html": [
       "<div>\n",
       "<style scoped>\n",
       "    .dataframe tbody tr th:only-of-type {\n",
       "        vertical-align: middle;\n",
       "    }\n",
       "\n",
       "    .dataframe tbody tr th {\n",
       "        vertical-align: top;\n",
       "    }\n",
       "\n",
       "    .dataframe thead th {\n",
       "        text-align: right;\n",
       "    }\n",
       "</style>\n",
       "<table border=\"1\" class=\"dataframe\">\n",
       "  <thead>\n",
       "    <tr style=\"text-align: right;\">\n",
       "      <th></th>\n",
       "      <th>store_key</th>\n",
       "      <th>store_id</th>\n",
       "      <th>manager_staff_id</th>\n",
       "      <th>address_id</th>\n",
       "    </tr>\n",
       "  </thead>\n",
       "  <tbody>\n",
       "    <tr>\n",
       "      <th>0</th>\n",
       "      <td>1</td>\n",
       "      <td>1</td>\n",
       "      <td>1</td>\n",
       "      <td>1</td>\n",
       "    </tr>\n",
       "    <tr>\n",
       "      <th>1</th>\n",
       "      <td>2</td>\n",
       "      <td>2</td>\n",
       "      <td>2</td>\n",
       "      <td>2</td>\n",
       "    </tr>\n",
       "  </tbody>\n",
       "</table>\n",
       "</div>"
      ],
      "text/plain": [
       "   store_key  store_id  manager_staff_id  address_id\n",
       "0          1         1                 1           1\n",
       "1          2         2                 2           2"
      ]
     },
     "execution_count": 52,
     "metadata": {},
     "output_type": "execute_result"
    }
   ],
   "source": [
    "df_store.insert(0, \"store_key\", range(1, df_store.shape[0]+1)) #inserting primary key\n",
    "df_store.drop(['last_update'], axis=1, inplace=True) #unnecessary column\n",
    "df_store.head(2)"
   ]
  },
  {
   "cell_type": "markdown",
   "id": "16a4eb6e-2648-40f7-9bff-b0fe896c2300",
   "metadata": {},
   "source": [
    "### Inserting the Dimension Tables"
   ]
  },
  {
   "cell_type": "markdown",
   "id": "c424356d-6507-47a1-ac82-6738bb316b59",
   "metadata": {},
   "source": [
    "#### Creating sakila_dw and Creaing the Dimension Tables for it"
   ]
  },
  {
   "cell_type": "code",
   "execution_count": 56,
   "id": "724f6b7e-bca3-41f3-92bb-0e07ca8455a6",
   "metadata": {},
   "outputs": [],
   "source": [
    "db_operation = 'insert'\n",
    "tables = [('dim_customer', df_customer, 'customer_key'),\n",
    "          ('dim_payment', df_payment, 'payment_key'),\n",
    "          ('dim_store', df_store, 'store_key')]"
   ]
  },
  {
   "cell_type": "code",
   "execution_count": 58,
   "id": "c219a17c-946a-478c-873c-563e2b16e8a6",
   "metadata": {},
   "outputs": [],
   "source": [
    "for table_name, dataframe, primary_key in tables:\n",
    "    set_dataframe(dataframe, table_name, primary_key, db_operation, **dw_args)"
   ]
  },
  {
   "cell_type": "markdown",
   "id": "dd11cffa-244f-4c1f-81df-7bc8dc015c98",
   "metadata": {},
   "source": [
    "### Run Lab 2c using sakila_dw instead of using northwind_dw2 to get Date Dimension Table"
   ]
  },
  {
   "cell_type": "markdown",
   "id": "51eb8b11-c89f-45e6-93a2-c82da0d8f96e",
   "metadata": {},
   "source": [
    "#### Getting Primary Key from Tables and Dropping ID Column"
   ]
  },
  {
   "cell_type": "code",
   "execution_count": 62,
   "id": "2dff9ad7-fb61-41e9-a3ed-1efa91cadf12",
   "metadata": {},
   "outputs": [
    {
     "data": {
      "text/html": [
       "<div>\n",
       "<style scoped>\n",
       "    .dataframe tbody tr th:only-of-type {\n",
       "        vertical-align: middle;\n",
       "    }\n",
       "\n",
       "    .dataframe tbody tr th {\n",
       "        vertical-align: top;\n",
       "    }\n",
       "\n",
       "    .dataframe thead th {\n",
       "        text-align: right;\n",
       "    }\n",
       "</style>\n",
       "<table border=\"1\" class=\"dataframe\">\n",
       "  <thead>\n",
       "    <tr style=\"text-align: right;\">\n",
       "      <th></th>\n",
       "      <th>store_id</th>\n",
       "      <th>first_name</th>\n",
       "      <th>last_name</th>\n",
       "      <th>email</th>\n",
       "      <th>address_id</th>\n",
       "      <th>active</th>\n",
       "      <th>create_date</th>\n",
       "      <th>last_update</th>\n",
       "    </tr>\n",
       "  </thead>\n",
       "  <tbody>\n",
       "    <tr>\n",
       "      <th>0</th>\n",
       "      <td>1</td>\n",
       "      <td>MARY</td>\n",
       "      <td>SMITH</td>\n",
       "      <td>MARY.SMITH@sakilacustomer.org</td>\n",
       "      <td>5</td>\n",
       "      <td>1</td>\n",
       "      <td>2006-02-14 22:04:36</td>\n",
       "      <td>2006-02-15 04:57:20</td>\n",
       "    </tr>\n",
       "    <tr>\n",
       "      <th>1</th>\n",
       "      <td>1</td>\n",
       "      <td>PATRICIA</td>\n",
       "      <td>JOHNSON</td>\n",
       "      <td>PATRICIA.JOHNSON@sakilacustomer.org</td>\n",
       "      <td>6</td>\n",
       "      <td>1</td>\n",
       "      <td>2006-02-14 22:04:36</td>\n",
       "      <td>2006-02-15 04:57:20</td>\n",
       "    </tr>\n",
       "  </tbody>\n",
       "</table>\n",
       "</div>"
      ],
      "text/plain": [
       "   store_id first_name last_name                                email  \\\n",
       "0         1       MARY     SMITH        MARY.SMITH@sakilacustomer.org   \n",
       "1         1   PATRICIA   JOHNSON  PATRICIA.JOHNSON@sakilacustomer.org   \n",
       "\n",
       "   address_id  active         create_date         last_update  \n",
       "0           5       1 2006-02-14 22:04:36 2006-02-15 04:57:20  \n",
       "1           6       1 2006-02-14 22:04:36 2006-02-15 04:57:20  "
      ]
     },
     "execution_count": 62,
     "metadata": {},
     "output_type": "execute_result"
    }
   ],
   "source": [
    "sql_dim_customer = \"SELECT customer_key, customer_id FROM sakila_dw.dim_customer;\"\n",
    "df_dim_customer = get_dataframe(user_id, pwd, host_name, src_dbname, sql_customer)\n",
    "df_dim_customer.drop(['customer_id'], axis=1, inplace=True)\n",
    "df_dim_customer.head(2)"
   ]
  },
  {
   "cell_type": "code",
   "execution_count": 64,
   "id": "fe641440-f890-4e3a-9e0a-74429d6f1ad0",
   "metadata": {},
   "outputs": [
    {
     "data": {
      "text/html": [
       "<div>\n",
       "<style scoped>\n",
       "    .dataframe tbody tr th:only-of-type {\n",
       "        vertical-align: middle;\n",
       "    }\n",
       "\n",
       "    .dataframe tbody tr th {\n",
       "        vertical-align: top;\n",
       "    }\n",
       "\n",
       "    .dataframe thead th {\n",
       "        text-align: right;\n",
       "    }\n",
       "</style>\n",
       "<table border=\"1\" class=\"dataframe\">\n",
       "  <thead>\n",
       "    <tr style=\"text-align: right;\">\n",
       "      <th></th>\n",
       "      <th>payment_key</th>\n",
       "    </tr>\n",
       "  </thead>\n",
       "  <tbody>\n",
       "    <tr>\n",
       "      <th>0</th>\n",
       "      <td>1</td>\n",
       "    </tr>\n",
       "    <tr>\n",
       "      <th>1</th>\n",
       "      <td>2</td>\n",
       "    </tr>\n",
       "  </tbody>\n",
       "</table>\n",
       "</div>"
      ],
      "text/plain": [
       "   payment_key\n",
       "0            1\n",
       "1            2"
      ]
     },
     "execution_count": 64,
     "metadata": {},
     "output_type": "execute_result"
    }
   ],
   "source": [
    "sql_dim_payment = \"SELECT payment_key, payment_id FROM sakila_dw.dim_payment;\"\n",
    "df_dim_payment = get_sql_dataframe(sql_dim_payment, **dw_args)\n",
    "df_dim_payment.drop(['payment_id'], axis=1, inplace=True)\n",
    "df_dim_payment.head(2) "
   ]
  },
  {
   "cell_type": "code",
   "execution_count": 66,
   "id": "0d827371-e6b8-48ed-8e55-543cfe9f9549",
   "metadata": {},
   "outputs": [
    {
     "data": {
      "text/html": [
       "<div>\n",
       "<style scoped>\n",
       "    .dataframe tbody tr th:only-of-type {\n",
       "        vertical-align: middle;\n",
       "    }\n",
       "\n",
       "    .dataframe tbody tr th {\n",
       "        vertical-align: top;\n",
       "    }\n",
       "\n",
       "    .dataframe thead th {\n",
       "        text-align: right;\n",
       "    }\n",
       "</style>\n",
       "<table border=\"1\" class=\"dataframe\">\n",
       "  <thead>\n",
       "    <tr style=\"text-align: right;\">\n",
       "      <th></th>\n",
       "      <th>store_key</th>\n",
       "    </tr>\n",
       "  </thead>\n",
       "  <tbody>\n",
       "    <tr>\n",
       "      <th>0</th>\n",
       "      <td>1</td>\n",
       "    </tr>\n",
       "    <tr>\n",
       "      <th>1</th>\n",
       "      <td>2</td>\n",
       "    </tr>\n",
       "  </tbody>\n",
       "</table>\n",
       "</div>"
      ],
      "text/plain": [
       "   store_key\n",
       "0          1\n",
       "1          2"
      ]
     },
     "execution_count": 66,
     "metadata": {},
     "output_type": "execute_result"
    }
   ],
   "source": [
    "sql_dim_store = \"SELECT store_key FROM sakila_dw.dim_store;\"\n",
    "df_dim_store = get_sql_dataframe(sql_dim_store, **dw_args)\n",
    "df_dim_store.head(2)"
   ]
  },
  {
   "cell_type": "markdown",
   "id": "991b52bd-6054-4573-9901-4081555f6d2d",
   "metadata": {},
   "source": [
    "### Create Fact Orders Table: Goal is to Find Top Spending Customers per Store"
   ]
  },
  {
   "cell_type": "code",
   "execution_count": 69,
   "id": "55fb0227-0083-4350-b43f-ae377bf62e09",
   "metadata": {},
   "outputs": [
    {
     "data": {
      "text/html": [
       "<div>\n",
       "<style scoped>\n",
       "    .dataframe tbody tr th:only-of-type {\n",
       "        vertical-align: middle;\n",
       "    }\n",
       "\n",
       "    .dataframe tbody tr th {\n",
       "        vertical-align: top;\n",
       "    }\n",
       "\n",
       "    .dataframe thead th {\n",
       "        text-align: right;\n",
       "    }\n",
       "</style>\n",
       "<table border=\"1\" class=\"dataframe\">\n",
       "  <thead>\n",
       "    <tr style=\"text-align: right;\">\n",
       "      <th></th>\n",
       "      <th>store_id</th>\n",
       "      <th>store_manager</th>\n",
       "      <th>customer_id</th>\n",
       "      <th>customer_first_name</th>\n",
       "      <th>customer_last_name</th>\n",
       "      <th>payment_amount</th>\n",
       "      <th>payment_date</th>\n",
       "    </tr>\n",
       "  </thead>\n",
       "  <tbody>\n",
       "    <tr>\n",
       "      <th>0</th>\n",
       "      <td>1</td>\n",
       "      <td>1</td>\n",
       "      <td>1</td>\n",
       "      <td>MARY</td>\n",
       "      <td>SMITH</td>\n",
       "      <td>2.99</td>\n",
       "      <td>2005-05-25 11:30:37</td>\n",
       "    </tr>\n",
       "    <tr>\n",
       "      <th>1</th>\n",
       "      <td>1</td>\n",
       "      <td>1</td>\n",
       "      <td>1</td>\n",
       "      <td>MARY</td>\n",
       "      <td>SMITH</td>\n",
       "      <td>0.99</td>\n",
       "      <td>2005-05-28 10:35:23</td>\n",
       "    </tr>\n",
       "  </tbody>\n",
       "</table>\n",
       "</div>"
      ],
      "text/plain": [
       "   store_id  store_manager  customer_id customer_first_name  \\\n",
       "0         1              1            1                MARY   \n",
       "1         1              1            1                MARY   \n",
       "\n",
       "  customer_last_name  payment_amount        payment_date  \n",
       "0              SMITH            2.99 2005-05-25 11:30:37  \n",
       "1              SMITH            0.99 2005-05-28 10:35:23  "
      ]
     },
     "execution_count": 69,
     "metadata": {},
     "output_type": "execute_result"
    }
   ],
   "source": [
    "sql_fact_orders = \"\"\"\n",
    "    SELECT s.store_id,\n",
    "        s.manager_staff_id AS store_manager,\n",
    "        c.customer_id,\n",
    "        c.first_name AS customer_first_name,\n",
    "        c.last_name AS customer_last_name,\n",
    "        p.amount AS payment_amount,\n",
    "        p.payment_date AS payment_date\n",
    "   FROM sakila.payment AS p\n",
    "   INNER JOIN sakila.customer AS c\n",
    "   ON p.customer_id = c.customer_id\n",
    "   INNER JOIN sakila.store AS s\n",
    "   ON c.store_id = s.store_id\n",
    "\"\"\"\n",
    "\n",
    "df_fact_orders = get_dataframe(user_id, pwd, host_name, src_dbname, sql_fact_orders)\n",
    "df_fact_orders.head(2)"
   ]
  },
  {
   "cell_type": "markdown",
   "id": "046b1000-c1bb-4034-a55a-304416098a94",
   "metadata": {},
   "source": [
    "### Get Data From the Tables Involved in the Fact Orders Table Using get_dataframe Function"
   ]
  },
  {
   "cell_type": "markdown",
   "id": "e35e0f65-2915-4e52-840d-97792c3f8183",
   "metadata": {},
   "source": [
    "#### Customer Table"
   ]
  },
  {
   "cell_type": "code",
   "execution_count": 73,
   "id": "c34e984a-2066-43fb-95e8-fcc7668076db",
   "metadata": {},
   "outputs": [
    {
     "data": {
      "text/html": [
       "<div>\n",
       "<style scoped>\n",
       "    .dataframe tbody tr th:only-of-type {\n",
       "        vertical-align: middle;\n",
       "    }\n",
       "\n",
       "    .dataframe tbody tr th {\n",
       "        vertical-align: top;\n",
       "    }\n",
       "\n",
       "    .dataframe thead th {\n",
       "        text-align: right;\n",
       "    }\n",
       "</style>\n",
       "<table border=\"1\" class=\"dataframe\">\n",
       "  <thead>\n",
       "    <tr style=\"text-align: right;\">\n",
       "      <th></th>\n",
       "      <th>customer_id</th>\n",
       "      <th>store_id</th>\n",
       "      <th>first_name</th>\n",
       "      <th>last_name</th>\n",
       "      <th>email</th>\n",
       "      <th>address_id</th>\n",
       "      <th>active</th>\n",
       "      <th>create_date</th>\n",
       "    </tr>\n",
       "  </thead>\n",
       "  <tbody>\n",
       "    <tr>\n",
       "      <th>0</th>\n",
       "      <td>1</td>\n",
       "      <td>1</td>\n",
       "      <td>MARY</td>\n",
       "      <td>SMITH</td>\n",
       "      <td>MARY.SMITH@sakilacustomer.org</td>\n",
       "      <td>5</td>\n",
       "      <td>1</td>\n",
       "      <td>2006-02-14 22:04:36</td>\n",
       "    </tr>\n",
       "    <tr>\n",
       "      <th>1</th>\n",
       "      <td>2</td>\n",
       "      <td>1</td>\n",
       "      <td>PATRICIA</td>\n",
       "      <td>JOHNSON</td>\n",
       "      <td>PATRICIA.JOHNSON@sakilacustomer.org</td>\n",
       "      <td>6</td>\n",
       "      <td>1</td>\n",
       "      <td>2006-02-14 22:04:36</td>\n",
       "    </tr>\n",
       "  </tbody>\n",
       "</table>\n",
       "</div>"
      ],
      "text/plain": [
       "   customer_id  store_id first_name last_name  \\\n",
       "0            1         1       MARY     SMITH   \n",
       "1            2         1   PATRICIA   JOHNSON   \n",
       "\n",
       "                                 email  address_id  active         create_date  \n",
       "0        MARY.SMITH@sakilacustomer.org           5       1 2006-02-14 22:04:36  \n",
       "1  PATRICIA.JOHNSON@sakilacustomer.org           6       1 2006-02-14 22:04:36  "
      ]
     },
     "execution_count": 73,
     "metadata": {},
     "output_type": "execute_result"
    }
   ],
   "source": [
    "sql_customer= \"SELECT * FROM sakila.customer;\"\n",
    "df_customer = get_dataframe(user_id, pwd, host_name, src_dbname, sql_customer)\n",
    "df_customer.rename(columns={\"id\":\"customer_id\"}, inplace=True) #renaming the id column\n",
    "df_customer.drop(['last_update'], axis=1, inplace=True) #dropping unnecessary column\n",
    "df_customer.head(2)"
   ]
  },
  {
   "cell_type": "markdown",
   "id": "86007256-04c5-4a0e-8f82-2760731f983f",
   "metadata": {},
   "source": [
    "#### Payment Table"
   ]
  },
  {
   "cell_type": "code",
   "execution_count": 76,
   "id": "975be29e-98fb-4dae-b037-8359949a8f2e",
   "metadata": {},
   "outputs": [
    {
     "data": {
      "text/html": [
       "<div>\n",
       "<style scoped>\n",
       "    .dataframe tbody tr th:only-of-type {\n",
       "        vertical-align: middle;\n",
       "    }\n",
       "\n",
       "    .dataframe tbody tr th {\n",
       "        vertical-align: top;\n",
       "    }\n",
       "\n",
       "    .dataframe thead th {\n",
       "        text-align: right;\n",
       "    }\n",
       "</style>\n",
       "<table border=\"1\" class=\"dataframe\">\n",
       "  <thead>\n",
       "    <tr style=\"text-align: right;\">\n",
       "      <th></th>\n",
       "      <th>payment_id</th>\n",
       "      <th>customer_id</th>\n",
       "      <th>staff_id</th>\n",
       "      <th>rental_id</th>\n",
       "      <th>amount</th>\n",
       "      <th>payment_date</th>\n",
       "    </tr>\n",
       "  </thead>\n",
       "  <tbody>\n",
       "    <tr>\n",
       "      <th>0</th>\n",
       "      <td>1</td>\n",
       "      <td>1</td>\n",
       "      <td>1</td>\n",
       "      <td>76</td>\n",
       "      <td>2.99</td>\n",
       "      <td>2005-05-25 11:30:37</td>\n",
       "    </tr>\n",
       "    <tr>\n",
       "      <th>1</th>\n",
       "      <td>2</td>\n",
       "      <td>1</td>\n",
       "      <td>1</td>\n",
       "      <td>573</td>\n",
       "      <td>0.99</td>\n",
       "      <td>2005-05-28 10:35:23</td>\n",
       "    </tr>\n",
       "  </tbody>\n",
       "</table>\n",
       "</div>"
      ],
      "text/plain": [
       "   payment_id  customer_id  staff_id  rental_id  amount        payment_date\n",
       "0           1            1         1         76    2.99 2005-05-25 11:30:37\n",
       "1           2            1         1        573    0.99 2005-05-28 10:35:23"
      ]
     },
     "execution_count": 76,
     "metadata": {},
     "output_type": "execute_result"
    }
   ],
   "source": [
    "sql_payment= \"SELECT * FROM sakila.payment;\"\n",
    "df_payment = get_dataframe(user_id, pwd, host_name, src_dbname, sql_payment)\n",
    "df_payment.rename(columns={\"id\":\"payment_id\"}, inplace=True) #renaming the id column\n",
    "df_payment.drop(['last_update'], axis=1, inplace=True) #dropping unnecessary column\n",
    "df_payment.head(2)"
   ]
  },
  {
   "cell_type": "markdown",
   "id": "6a244611-d174-4754-8a62-eac88eb6209c",
   "metadata": {},
   "source": [
    "#### Store Table"
   ]
  },
  {
   "cell_type": "code",
   "execution_count": 79,
   "id": "122f5e64-a811-449c-add5-507c9f433459",
   "metadata": {},
   "outputs": [
    {
     "data": {
      "text/html": [
       "<div>\n",
       "<style scoped>\n",
       "    .dataframe tbody tr th:only-of-type {\n",
       "        vertical-align: middle;\n",
       "    }\n",
       "\n",
       "    .dataframe tbody tr th {\n",
       "        vertical-align: top;\n",
       "    }\n",
       "\n",
       "    .dataframe thead th {\n",
       "        text-align: right;\n",
       "    }\n",
       "</style>\n",
       "<table border=\"1\" class=\"dataframe\">\n",
       "  <thead>\n",
       "    <tr style=\"text-align: right;\">\n",
       "      <th></th>\n",
       "      <th>store_id</th>\n",
       "      <th>manager_staff_id</th>\n",
       "      <th>address_id</th>\n",
       "    </tr>\n",
       "  </thead>\n",
       "  <tbody>\n",
       "    <tr>\n",
       "      <th>0</th>\n",
       "      <td>1</td>\n",
       "      <td>1</td>\n",
       "      <td>1</td>\n",
       "    </tr>\n",
       "    <tr>\n",
       "      <th>1</th>\n",
       "      <td>2</td>\n",
       "      <td>2</td>\n",
       "      <td>2</td>\n",
       "    </tr>\n",
       "  </tbody>\n",
       "</table>\n",
       "</div>"
      ],
      "text/plain": [
       "   store_id  manager_staff_id  address_id\n",
       "0         1                 1           1\n",
       "1         2                 2           2"
      ]
     },
     "execution_count": 79,
     "metadata": {},
     "output_type": "execute_result"
    }
   ],
   "source": [
    "sql_store= \"SELECT * FROM sakila.store;\"\n",
    "df_store = get_dataframe(user_id, pwd, host_name, src_dbname, sql_store)\n",
    "df_store.rename(columns={\"id\":\"store_id\"}, inplace=True) #renaming the id column\n",
    "df_store.drop(['last_update'], axis=1, inplace=True) #dropping unnecessary column\n",
    "df_store.head(2)"
   ]
  },
  {
   "cell_type": "markdown",
   "id": "d708fbc3-724f-4eb5-b6dd-e86e467b06ab",
   "metadata": {},
   "source": [
    "### Merging the Customer Table with the Payment Table on 'customer_id'"
   ]
  },
  {
   "cell_type": "code",
   "execution_count": 82,
   "id": "befa72bc-fdb1-472f-a0de-d06104fa191a",
   "metadata": {
    "scrolled": true
   },
   "outputs": [
    {
     "data": {
      "text/html": [
       "<div>\n",
       "<style scoped>\n",
       "    .dataframe tbody tr th:only-of-type {\n",
       "        vertical-align: middle;\n",
       "    }\n",
       "\n",
       "    .dataframe tbody tr th {\n",
       "        vertical-align: top;\n",
       "    }\n",
       "\n",
       "    .dataframe thead th {\n",
       "        text-align: right;\n",
       "    }\n",
       "</style>\n",
       "<table border=\"1\" class=\"dataframe\">\n",
       "  <thead>\n",
       "    <tr style=\"text-align: right;\">\n",
       "      <th></th>\n",
       "      <th>customer_id</th>\n",
       "      <th>store_id</th>\n",
       "      <th>first_name</th>\n",
       "      <th>last_name</th>\n",
       "      <th>email</th>\n",
       "      <th>active</th>\n",
       "      <th>create_date</th>\n",
       "      <th>payment_id</th>\n",
       "      <th>staff_id</th>\n",
       "      <th>rental_id</th>\n",
       "      <th>amount</th>\n",
       "      <th>payment_date</th>\n",
       "    </tr>\n",
       "  </thead>\n",
       "  <tbody>\n",
       "    <tr>\n",
       "      <th>0</th>\n",
       "      <td>1</td>\n",
       "      <td>1</td>\n",
       "      <td>MARY</td>\n",
       "      <td>SMITH</td>\n",
       "      <td>MARY.SMITH@sakilacustomer.org</td>\n",
       "      <td>1</td>\n",
       "      <td>2006-02-14 22:04:36</td>\n",
       "      <td>1</td>\n",
       "      <td>1</td>\n",
       "      <td>76</td>\n",
       "      <td>2.99</td>\n",
       "      <td>2005-05-25 11:30:37</td>\n",
       "    </tr>\n",
       "    <tr>\n",
       "      <th>1</th>\n",
       "      <td>1</td>\n",
       "      <td>1</td>\n",
       "      <td>MARY</td>\n",
       "      <td>SMITH</td>\n",
       "      <td>MARY.SMITH@sakilacustomer.org</td>\n",
       "      <td>1</td>\n",
       "      <td>2006-02-14 22:04:36</td>\n",
       "      <td>2</td>\n",
       "      <td>1</td>\n",
       "      <td>573</td>\n",
       "      <td>0.99</td>\n",
       "      <td>2005-05-28 10:35:23</td>\n",
       "    </tr>\n",
       "  </tbody>\n",
       "</table>\n",
       "</div>"
      ],
      "text/plain": [
       "   customer_id  store_id first_name last_name                          email  \\\n",
       "0            1         1       MARY     SMITH  MARY.SMITH@sakilacustomer.org   \n",
       "1            1         1       MARY     SMITH  MARY.SMITH@sakilacustomer.org   \n",
       "\n",
       "   active         create_date  payment_id  staff_id  rental_id  amount  \\\n",
       "0       1 2006-02-14 22:04:36           1         1         76    2.99   \n",
       "1       1 2006-02-14 22:04:36           2         1        573    0.99   \n",
       "\n",
       "         payment_date  \n",
       "0 2005-05-25 11:30:37  \n",
       "1 2005-05-28 10:35:23  "
      ]
     },
     "execution_count": 82,
     "metadata": {},
     "output_type": "execute_result"
    }
   ],
   "source": [
    "df_customer = pd.merge(df_customer, df_payment, on='customer_id', how='inner')\n",
    "df_customer.drop(['address_id'], axis=1, inplace=True)\n",
    "df_customer.head(2)"
   ]
  },
  {
   "cell_type": "markdown",
   "id": "960d06c4-4813-4ada-b28e-1dad0de3b867",
   "metadata": {},
   "source": [
    "### Mergining Customer Table with Store Table on 'store_id'"
   ]
  },
  {
   "cell_type": "code",
   "execution_count": 85,
   "id": "c1584551-9972-4d04-b4a7-b5b5d731d907",
   "metadata": {},
   "outputs": [
    {
     "data": {
      "text/html": [
       "<div>\n",
       "<style scoped>\n",
       "    .dataframe tbody tr th:only-of-type {\n",
       "        vertical-align: middle;\n",
       "    }\n",
       "\n",
       "    .dataframe tbody tr th {\n",
       "        vertical-align: top;\n",
       "    }\n",
       "\n",
       "    .dataframe thead th {\n",
       "        text-align: right;\n",
       "    }\n",
       "</style>\n",
       "<table border=\"1\" class=\"dataframe\">\n",
       "  <thead>\n",
       "    <tr style=\"text-align: right;\">\n",
       "      <th></th>\n",
       "      <th>customer_id</th>\n",
       "      <th>store_id</th>\n",
       "      <th>first_name</th>\n",
       "      <th>last_name</th>\n",
       "      <th>email</th>\n",
       "      <th>active</th>\n",
       "      <th>create_date</th>\n",
       "      <th>payment_id</th>\n",
       "      <th>staff_id</th>\n",
       "      <th>rental_id</th>\n",
       "      <th>amount</th>\n",
       "      <th>payment_date</th>\n",
       "      <th>manager_staff_id</th>\n",
       "      <th>address_id</th>\n",
       "    </tr>\n",
       "  </thead>\n",
       "  <tbody>\n",
       "    <tr>\n",
       "      <th>0</th>\n",
       "      <td>1</td>\n",
       "      <td>1</td>\n",
       "      <td>MARY</td>\n",
       "      <td>SMITH</td>\n",
       "      <td>MARY.SMITH@sakilacustomer.org</td>\n",
       "      <td>1</td>\n",
       "      <td>2006-02-14 22:04:36</td>\n",
       "      <td>1</td>\n",
       "      <td>1</td>\n",
       "      <td>76</td>\n",
       "      <td>2.99</td>\n",
       "      <td>2005-05-25 11:30:37</td>\n",
       "      <td>1</td>\n",
       "      <td>1</td>\n",
       "    </tr>\n",
       "    <tr>\n",
       "      <th>1</th>\n",
       "      <td>1</td>\n",
       "      <td>1</td>\n",
       "      <td>MARY</td>\n",
       "      <td>SMITH</td>\n",
       "      <td>MARY.SMITH@sakilacustomer.org</td>\n",
       "      <td>1</td>\n",
       "      <td>2006-02-14 22:04:36</td>\n",
       "      <td>2</td>\n",
       "      <td>1</td>\n",
       "      <td>573</td>\n",
       "      <td>0.99</td>\n",
       "      <td>2005-05-28 10:35:23</td>\n",
       "      <td>1</td>\n",
       "      <td>1</td>\n",
       "    </tr>\n",
       "  </tbody>\n",
       "</table>\n",
       "</div>"
      ],
      "text/plain": [
       "   customer_id  store_id first_name last_name                          email  \\\n",
       "0            1         1       MARY     SMITH  MARY.SMITH@sakilacustomer.org   \n",
       "1            1         1       MARY     SMITH  MARY.SMITH@sakilacustomer.org   \n",
       "\n",
       "   active         create_date  payment_id  staff_id  rental_id  amount  \\\n",
       "0       1 2006-02-14 22:04:36           1         1         76    2.99   \n",
       "1       1 2006-02-14 22:04:36           2         1        573    0.99   \n",
       "\n",
       "         payment_date  manager_staff_id  address_id  \n",
       "0 2005-05-25 11:30:37                 1           1  \n",
       "1 2005-05-28 10:35:23                 1           1  "
      ]
     },
     "execution_count": 85,
     "metadata": {},
     "output_type": "execute_result"
    }
   ],
   "source": [
    "df_fact_orders = pd.merge(df_customer, df_store, on='store_id', how='inner')\n",
    "df_fact_orders.head(2)"
   ]
  },
  {
   "cell_type": "code",
   "execution_count": 87,
   "id": "a4f9e931-6710-4739-9f6f-1c7e68f78621",
   "metadata": {},
   "outputs": [
    {
     "data": {
      "text/plain": [
       "(16044, 14)"
      ]
     },
     "execution_count": 87,
     "metadata": {},
     "output_type": "execute_result"
    }
   ],
   "source": [
    "df_fact_orders.shape"
   ]
  },
  {
   "cell_type": "markdown",
   "id": "f195613c-2174-4d68-9b96-ba8b912edb60",
   "metadata": {},
   "source": [
    "### Fetch Surrogate Primary Key and Business Key From Dimension Tables with Get Dataframe Code"
   ]
  },
  {
   "cell_type": "markdown",
   "id": "eaa7d9d6-85b2-4140-8d8d-d801cd988db3",
   "metadata": {},
   "source": [
    "#### Customer Dimension Table"
   ]
  },
  {
   "cell_type": "code",
   "execution_count": 91,
   "id": "786bad6a-1d73-4e13-9a05-1a6e0661eaf8",
   "metadata": {},
   "outputs": [
    {
     "data": {
      "text/html": [
       "<div>\n",
       "<style scoped>\n",
       "    .dataframe tbody tr th:only-of-type {\n",
       "        vertical-align: middle;\n",
       "    }\n",
       "\n",
       "    .dataframe tbody tr th {\n",
       "        vertical-align: top;\n",
       "    }\n",
       "\n",
       "    .dataframe thead th {\n",
       "        text-align: right;\n",
       "    }\n",
       "</style>\n",
       "<table border=\"1\" class=\"dataframe\">\n",
       "  <thead>\n",
       "    <tr style=\"text-align: right;\">\n",
       "      <th></th>\n",
       "      <th>customer_key</th>\n",
       "      <th>customer_id</th>\n",
       "    </tr>\n",
       "  </thead>\n",
       "  <tbody>\n",
       "    <tr>\n",
       "      <th>0</th>\n",
       "      <td>1</td>\n",
       "      <td>1</td>\n",
       "    </tr>\n",
       "    <tr>\n",
       "      <th>1</th>\n",
       "      <td>2</td>\n",
       "      <td>2</td>\n",
       "    </tr>\n",
       "  </tbody>\n",
       "</table>\n",
       "</div>"
      ],
      "text/plain": [
       "   customer_key  customer_id\n",
       "0             1            1\n",
       "1             2            2"
      ]
     },
     "execution_count": 91,
     "metadata": {},
     "output_type": "execute_result"
    }
   ],
   "source": [
    "sql_dim_customer = \"SELECT customer_key, customer_id FROM sakila_dw.dim_customer;\"\n",
    "df_dim_customer = get_dataframe(user_id, pwd, host_name, src_dbname, sql_dim_customer)\n",
    "df_dim_customer.head(2)"
   ]
  },
  {
   "cell_type": "markdown",
   "id": "8ce9c0e5-835e-4239-b77f-20f70fffa10c",
   "metadata": {},
   "source": [
    "#### Payment Dimension Table"
   ]
  },
  {
   "cell_type": "code",
   "execution_count": 94,
   "id": "29b63986-50f8-40a3-af31-b592e9ef93f3",
   "metadata": {},
   "outputs": [
    {
     "data": {
      "text/html": [
       "<div>\n",
       "<style scoped>\n",
       "    .dataframe tbody tr th:only-of-type {\n",
       "        vertical-align: middle;\n",
       "    }\n",
       "\n",
       "    .dataframe tbody tr th {\n",
       "        vertical-align: top;\n",
       "    }\n",
       "\n",
       "    .dataframe thead th {\n",
       "        text-align: right;\n",
       "    }\n",
       "</style>\n",
       "<table border=\"1\" class=\"dataframe\">\n",
       "  <thead>\n",
       "    <tr style=\"text-align: right;\">\n",
       "      <th></th>\n",
       "      <th>payment_key</th>\n",
       "      <th>payment_id</th>\n",
       "    </tr>\n",
       "  </thead>\n",
       "  <tbody>\n",
       "    <tr>\n",
       "      <th>0</th>\n",
       "      <td>1</td>\n",
       "      <td>1</td>\n",
       "    </tr>\n",
       "    <tr>\n",
       "      <th>1</th>\n",
       "      <td>2</td>\n",
       "      <td>2</td>\n",
       "    </tr>\n",
       "  </tbody>\n",
       "</table>\n",
       "</div>"
      ],
      "text/plain": [
       "   payment_key  payment_id\n",
       "0            1           1\n",
       "1            2           2"
      ]
     },
     "execution_count": 94,
     "metadata": {},
     "output_type": "execute_result"
    }
   ],
   "source": [
    "sql_dim_payment = \"SELECT payment_key, payment_id FROM sakila_dw.dim_payment;\"\n",
    "df_dim_payment = get_dataframe(user_id, pwd, host_name, src_dbname, sql_dim_payment)\n",
    "df_dim_payment.head(2)"
   ]
  },
  {
   "cell_type": "markdown",
   "id": "cb3274df-68dd-4af0-b399-df6b648ad6f3",
   "metadata": {},
   "source": [
    "#### Store Dimension Table"
   ]
  },
  {
   "cell_type": "code",
   "execution_count": 97,
   "id": "567d1813-2e6d-4e80-91e1-7fd5345540f1",
   "metadata": {},
   "outputs": [
    {
     "data": {
      "text/html": [
       "<div>\n",
       "<style scoped>\n",
       "    .dataframe tbody tr th:only-of-type {\n",
       "        vertical-align: middle;\n",
       "    }\n",
       "\n",
       "    .dataframe tbody tr th {\n",
       "        vertical-align: top;\n",
       "    }\n",
       "\n",
       "    .dataframe thead th {\n",
       "        text-align: right;\n",
       "    }\n",
       "</style>\n",
       "<table border=\"1\" class=\"dataframe\">\n",
       "  <thead>\n",
       "    <tr style=\"text-align: right;\">\n",
       "      <th></th>\n",
       "      <th>store_key</th>\n",
       "      <th>store_id</th>\n",
       "    </tr>\n",
       "  </thead>\n",
       "  <tbody>\n",
       "    <tr>\n",
       "      <th>0</th>\n",
       "      <td>1</td>\n",
       "      <td>1</td>\n",
       "    </tr>\n",
       "    <tr>\n",
       "      <th>1</th>\n",
       "      <td>2</td>\n",
       "      <td>2</td>\n",
       "    </tr>\n",
       "  </tbody>\n",
       "</table>\n",
       "</div>"
      ],
      "text/plain": [
       "   store_key  store_id\n",
       "0          1         1\n",
       "1          2         2"
      ]
     },
     "execution_count": 97,
     "metadata": {},
     "output_type": "execute_result"
    }
   ],
   "source": [
    "sql_dim_store = \"SELECT store_key, store_id FROM sakila_dw.dim_store;\"\n",
    "df_dim_store = get_dataframe(user_id, pwd, host_name, src_dbname, sql_dim_store)\n",
    "df_dim_store.head(2)"
   ]
  },
  {
   "cell_type": "markdown",
   "id": "569e23bd-2807-4a4b-a824-bd7d57ae2318",
   "metadata": {},
   "source": [
    "### Use Business Key to Merge Dimension Tables with Fact Orders Table on ID Columns"
   ]
  },
  {
   "cell_type": "markdown",
   "id": "1411876d-a5ac-4aa5-827e-697fd3dc27ac",
   "metadata": {},
   "source": [
    "#### Mergining Cusomter Dimension Table with Fact Orders Table"
   ]
  },
  {
   "cell_type": "code",
   "execution_count": 101,
   "id": "ae801838-0d97-46ce-b3d3-40a737894e55",
   "metadata": {},
   "outputs": [
    {
     "data": {
      "text/html": [
       "<div>\n",
       "<style scoped>\n",
       "    .dataframe tbody tr th:only-of-type {\n",
       "        vertical-align: middle;\n",
       "    }\n",
       "\n",
       "    .dataframe tbody tr th {\n",
       "        vertical-align: top;\n",
       "    }\n",
       "\n",
       "    .dataframe thead th {\n",
       "        text-align: right;\n",
       "    }\n",
       "</style>\n",
       "<table border=\"1\" class=\"dataframe\">\n",
       "  <thead>\n",
       "    <tr style=\"text-align: right;\">\n",
       "      <th></th>\n",
       "      <th>store_id</th>\n",
       "      <th>first_name</th>\n",
       "      <th>last_name</th>\n",
       "      <th>email</th>\n",
       "      <th>active</th>\n",
       "      <th>create_date</th>\n",
       "      <th>payment_id</th>\n",
       "      <th>staff_id</th>\n",
       "      <th>rental_id</th>\n",
       "      <th>amount</th>\n",
       "      <th>payment_date</th>\n",
       "      <th>manager_staff_id</th>\n",
       "      <th>address_id</th>\n",
       "      <th>customer_key</th>\n",
       "    </tr>\n",
       "  </thead>\n",
       "  <tbody>\n",
       "    <tr>\n",
       "      <th>0</th>\n",
       "      <td>1</td>\n",
       "      <td>MARY</td>\n",
       "      <td>SMITH</td>\n",
       "      <td>MARY.SMITH@sakilacustomer.org</td>\n",
       "      <td>1</td>\n",
       "      <td>2006-02-14 22:04:36</td>\n",
       "      <td>1</td>\n",
       "      <td>1</td>\n",
       "      <td>76</td>\n",
       "      <td>2.99</td>\n",
       "      <td>2005-05-25 11:30:37</td>\n",
       "      <td>1</td>\n",
       "      <td>1</td>\n",
       "      <td>1</td>\n",
       "    </tr>\n",
       "    <tr>\n",
       "      <th>1</th>\n",
       "      <td>1</td>\n",
       "      <td>MARY</td>\n",
       "      <td>SMITH</td>\n",
       "      <td>MARY.SMITH@sakilacustomer.org</td>\n",
       "      <td>1</td>\n",
       "      <td>2006-02-14 22:04:36</td>\n",
       "      <td>2</td>\n",
       "      <td>1</td>\n",
       "      <td>573</td>\n",
       "      <td>0.99</td>\n",
       "      <td>2005-05-28 10:35:23</td>\n",
       "      <td>1</td>\n",
       "      <td>1</td>\n",
       "      <td>1</td>\n",
       "    </tr>\n",
       "  </tbody>\n",
       "</table>\n",
       "</div>"
      ],
      "text/plain": [
       "   store_id first_name last_name                          email  active  \\\n",
       "0         1       MARY     SMITH  MARY.SMITH@sakilacustomer.org       1   \n",
       "1         1       MARY     SMITH  MARY.SMITH@sakilacustomer.org       1   \n",
       "\n",
       "          create_date  payment_id  staff_id  rental_id  amount  \\\n",
       "0 2006-02-14 22:04:36           1         1         76    2.99   \n",
       "1 2006-02-14 22:04:36           2         1        573    0.99   \n",
       "\n",
       "         payment_date  manager_staff_id  address_id  customer_key  \n",
       "0 2005-05-25 11:30:37                 1           1             1  \n",
       "1 2005-05-28 10:35:23                 1           1             1  "
      ]
     },
     "execution_count": 101,
     "metadata": {},
     "output_type": "execute_result"
    }
   ],
   "source": [
    "df_fact_orders = pd.merge(df_fact_orders, df_dim_customer, on='customer_id', how='inner')\n",
    "df_fact_orders.drop(['customer_id'], axis=1, inplace=True)\n",
    "df_fact_orders.head(2)"
   ]
  },
  {
   "cell_type": "markdown",
   "id": "362fe34d-26b4-48a9-a41e-61ea06c10e08",
   "metadata": {},
   "source": [
    "#### Mergining Payment Dimension Table with Fact Orders Table"
   ]
  },
  {
   "cell_type": "code",
   "execution_count": 104,
   "id": "9af2f2aa-c629-45d6-9e07-1f7d08e2df9e",
   "metadata": {},
   "outputs": [
    {
     "data": {
      "text/html": [
       "<div>\n",
       "<style scoped>\n",
       "    .dataframe tbody tr th:only-of-type {\n",
       "        vertical-align: middle;\n",
       "    }\n",
       "\n",
       "    .dataframe tbody tr th {\n",
       "        vertical-align: top;\n",
       "    }\n",
       "\n",
       "    .dataframe thead th {\n",
       "        text-align: right;\n",
       "    }\n",
       "</style>\n",
       "<table border=\"1\" class=\"dataframe\">\n",
       "  <thead>\n",
       "    <tr style=\"text-align: right;\">\n",
       "      <th></th>\n",
       "      <th>store_id</th>\n",
       "      <th>first_name</th>\n",
       "      <th>last_name</th>\n",
       "      <th>email</th>\n",
       "      <th>active</th>\n",
       "      <th>create_date</th>\n",
       "      <th>staff_id</th>\n",
       "      <th>rental_id</th>\n",
       "      <th>amount</th>\n",
       "      <th>payment_date</th>\n",
       "      <th>manager_staff_id</th>\n",
       "      <th>address_id</th>\n",
       "      <th>customer_key</th>\n",
       "      <th>payment_key</th>\n",
       "    </tr>\n",
       "  </thead>\n",
       "  <tbody>\n",
       "    <tr>\n",
       "      <th>0</th>\n",
       "      <td>1</td>\n",
       "      <td>MARY</td>\n",
       "      <td>SMITH</td>\n",
       "      <td>MARY.SMITH@sakilacustomer.org</td>\n",
       "      <td>1</td>\n",
       "      <td>2006-02-14 22:04:36</td>\n",
       "      <td>1</td>\n",
       "      <td>76</td>\n",
       "      <td>2.99</td>\n",
       "      <td>2005-05-25 11:30:37</td>\n",
       "      <td>1</td>\n",
       "      <td>1</td>\n",
       "      <td>1</td>\n",
       "      <td>1</td>\n",
       "    </tr>\n",
       "    <tr>\n",
       "      <th>1</th>\n",
       "      <td>1</td>\n",
       "      <td>MARY</td>\n",
       "      <td>SMITH</td>\n",
       "      <td>MARY.SMITH@sakilacustomer.org</td>\n",
       "      <td>1</td>\n",
       "      <td>2006-02-14 22:04:36</td>\n",
       "      <td>1</td>\n",
       "      <td>573</td>\n",
       "      <td>0.99</td>\n",
       "      <td>2005-05-28 10:35:23</td>\n",
       "      <td>1</td>\n",
       "      <td>1</td>\n",
       "      <td>1</td>\n",
       "      <td>2</td>\n",
       "    </tr>\n",
       "  </tbody>\n",
       "</table>\n",
       "</div>"
      ],
      "text/plain": [
       "   store_id first_name last_name                          email  active  \\\n",
       "0         1       MARY     SMITH  MARY.SMITH@sakilacustomer.org       1   \n",
       "1         1       MARY     SMITH  MARY.SMITH@sakilacustomer.org       1   \n",
       "\n",
       "          create_date  staff_id  rental_id  amount        payment_date  \\\n",
       "0 2006-02-14 22:04:36         1         76    2.99 2005-05-25 11:30:37   \n",
       "1 2006-02-14 22:04:36         1        573    0.99 2005-05-28 10:35:23   \n",
       "\n",
       "   manager_staff_id  address_id  customer_key  payment_key  \n",
       "0                 1           1             1            1  \n",
       "1                 1           1             1            2  "
      ]
     },
     "execution_count": 104,
     "metadata": {},
     "output_type": "execute_result"
    }
   ],
   "source": [
    "df_fact_orders = pd.merge(df_fact_orders, df_dim_payment, on='payment_id', how='inner')\n",
    "df_fact_orders.drop(['payment_id'], axis=1, inplace=True)\n",
    "df_fact_orders.head(2)"
   ]
  },
  {
   "cell_type": "markdown",
   "id": "b1ce99a2-77c6-4d62-b465-772b30475216",
   "metadata": {},
   "source": [
    "#### Merging Store Dimension Table with Fact Orders Table"
   ]
  },
  {
   "cell_type": "code",
   "execution_count": 107,
   "id": "be700857-ac23-4ef9-8574-b9d2d77bbc68",
   "metadata": {},
   "outputs": [
    {
     "data": {
      "text/html": [
       "<div>\n",
       "<style scoped>\n",
       "    .dataframe tbody tr th:only-of-type {\n",
       "        vertical-align: middle;\n",
       "    }\n",
       "\n",
       "    .dataframe tbody tr th {\n",
       "        vertical-align: top;\n",
       "    }\n",
       "\n",
       "    .dataframe thead th {\n",
       "        text-align: right;\n",
       "    }\n",
       "</style>\n",
       "<table border=\"1\" class=\"dataframe\">\n",
       "  <thead>\n",
       "    <tr style=\"text-align: right;\">\n",
       "      <th></th>\n",
       "      <th>first_name</th>\n",
       "      <th>last_name</th>\n",
       "      <th>email</th>\n",
       "      <th>active</th>\n",
       "      <th>create_date</th>\n",
       "      <th>staff_id</th>\n",
       "      <th>rental_id</th>\n",
       "      <th>amount</th>\n",
       "      <th>payment_date</th>\n",
       "      <th>manager_staff_id</th>\n",
       "      <th>address_id</th>\n",
       "      <th>customer_key</th>\n",
       "      <th>payment_key</th>\n",
       "      <th>store_key</th>\n",
       "    </tr>\n",
       "  </thead>\n",
       "  <tbody>\n",
       "    <tr>\n",
       "      <th>0</th>\n",
       "      <td>MARY</td>\n",
       "      <td>SMITH</td>\n",
       "      <td>MARY.SMITH@sakilacustomer.org</td>\n",
       "      <td>1</td>\n",
       "      <td>2006-02-14 22:04:36</td>\n",
       "      <td>1</td>\n",
       "      <td>76</td>\n",
       "      <td>2.99</td>\n",
       "      <td>2005-05-25 11:30:37</td>\n",
       "      <td>1</td>\n",
       "      <td>1</td>\n",
       "      <td>1</td>\n",
       "      <td>1</td>\n",
       "      <td>1</td>\n",
       "    </tr>\n",
       "    <tr>\n",
       "      <th>1</th>\n",
       "      <td>MARY</td>\n",
       "      <td>SMITH</td>\n",
       "      <td>MARY.SMITH@sakilacustomer.org</td>\n",
       "      <td>1</td>\n",
       "      <td>2006-02-14 22:04:36</td>\n",
       "      <td>1</td>\n",
       "      <td>573</td>\n",
       "      <td>0.99</td>\n",
       "      <td>2005-05-28 10:35:23</td>\n",
       "      <td>1</td>\n",
       "      <td>1</td>\n",
       "      <td>1</td>\n",
       "      <td>2</td>\n",
       "      <td>1</td>\n",
       "    </tr>\n",
       "  </tbody>\n",
       "</table>\n",
       "</div>"
      ],
      "text/plain": [
       "  first_name last_name                          email  active  \\\n",
       "0       MARY     SMITH  MARY.SMITH@sakilacustomer.org       1   \n",
       "1       MARY     SMITH  MARY.SMITH@sakilacustomer.org       1   \n",
       "\n",
       "          create_date  staff_id  rental_id  amount        payment_date  \\\n",
       "0 2006-02-14 22:04:36         1         76    2.99 2005-05-25 11:30:37   \n",
       "1 2006-02-14 22:04:36         1        573    0.99 2005-05-28 10:35:23   \n",
       "\n",
       "   manager_staff_id  address_id  customer_key  payment_key  store_key  \n",
       "0                 1           1             1            1          1  \n",
       "1                 1           1             1            2          1  "
      ]
     },
     "execution_count": 107,
     "metadata": {},
     "output_type": "execute_result"
    }
   ],
   "source": [
    "df_fact_orders = pd.merge(df_fact_orders, df_dim_store, on='store_id', how='inner')\n",
    "df_fact_orders.drop(['store_id'], axis=1, inplace=True)\n",
    "df_fact_orders.head(2)"
   ]
  },
  {
   "cell_type": "markdown",
   "id": "1c0ef86f-5dc6-42dd-a9ac-9b79e58f9ba0",
   "metadata": {},
   "source": [
    "### Lookup DateKeys From Date Dimension Table"
   ]
  },
  {
   "cell_type": "markdown",
   "id": "0f58905e-7701-4b5e-8a1a-845f6b043d7b",
   "metadata": {},
   "source": [
    "#### Getting Surrogate Primary Key and Business Key from Date Dimension"
   ]
  },
  {
   "cell_type": "code",
   "execution_count": 111,
   "id": "0be9a91a-d050-4dbb-abde-800cce2bbf4c",
   "metadata": {},
   "outputs": [
    {
     "data": {
      "text/html": [
       "<div>\n",
       "<style scoped>\n",
       "    .dataframe tbody tr th:only-of-type {\n",
       "        vertical-align: middle;\n",
       "    }\n",
       "\n",
       "    .dataframe tbody tr th {\n",
       "        vertical-align: top;\n",
       "    }\n",
       "\n",
       "    .dataframe thead th {\n",
       "        text-align: right;\n",
       "    }\n",
       "</style>\n",
       "<table border=\"1\" class=\"dataframe\">\n",
       "  <thead>\n",
       "    <tr style=\"text-align: right;\">\n",
       "      <th></th>\n",
       "      <th>date_key</th>\n",
       "      <th>full_date</th>\n",
       "    </tr>\n",
       "  </thead>\n",
       "  <tbody>\n",
       "  </tbody>\n",
       "</table>\n",
       "</div>"
      ],
      "text/plain": [
       "Empty DataFrame\n",
       "Columns: [date_key, full_date]\n",
       "Index: []"
      ]
     },
     "execution_count": 111,
     "metadata": {},
     "output_type": "execute_result"
    }
   ],
   "source": [
    "sql_dim_date = \"SELECT date_key, full_date FROM sakila_dw.dim_date;\"\n",
    "df_dim_date = get_dataframe(user_id, pwd, host_name, src_dbname, sql_dim_date)\n",
    "df_dim_date.full_date = df_dim_date.full_date.astype('datetime64[ns]').dt.date\n",
    "df_dim_date.head(2)"
   ]
  },
  {
   "cell_type": "markdown",
   "id": "04d497a2-a2b7-46f8-9c21-b4d18e2256de",
   "metadata": {},
   "source": [
    "### Lookup Corresponding Primary Key for Each Date Column in Fact Orders"
   ]
  },
  {
   "cell_type": "markdown",
   "id": "47a2755a-1b04-436e-901a-09dc59512f8e",
   "metadata": {},
   "source": [
    "#### Payment was the Only Table with a Date Dimension, so Utilizing Payment Date to Connect to Dim Date and then Merging it to Fact Oders"
   ]
  },
  {
   "cell_type": "code",
   "execution_count": 117,
   "id": "e2e639d4-5b89-424a-9217-b8a4cb4cbf4d",
   "metadata": {},
   "outputs": [
    {
     "data": {
      "text/html": [
       "<div>\n",
       "<style scoped>\n",
       "    .dataframe tbody tr th:only-of-type {\n",
       "        vertical-align: middle;\n",
       "    }\n",
       "\n",
       "    .dataframe tbody tr th {\n",
       "        vertical-align: top;\n",
       "    }\n",
       "\n",
       "    .dataframe thead th {\n",
       "        text-align: right;\n",
       "    }\n",
       "</style>\n",
       "<table border=\"1\" class=\"dataframe\">\n",
       "  <thead>\n",
       "    <tr style=\"text-align: right;\">\n",
       "      <th></th>\n",
       "      <th>first_name</th>\n",
       "      <th>last_name</th>\n",
       "      <th>email</th>\n",
       "      <th>active</th>\n",
       "      <th>create_date</th>\n",
       "      <th>staff_id</th>\n",
       "      <th>rental_id</th>\n",
       "      <th>amount</th>\n",
       "      <th>payment_date</th>\n",
       "      <th>manager_staff_id</th>\n",
       "      <th>address_id</th>\n",
       "      <th>customer_key</th>\n",
       "      <th>payment_key</th>\n",
       "      <th>store_key</th>\n",
       "      <th>payment_x</th>\n",
       "      <th>payment_y</th>\n",
       "    </tr>\n",
       "  </thead>\n",
       "  <tbody>\n",
       "    <tr>\n",
       "      <th>0</th>\n",
       "      <td>MARY</td>\n",
       "      <td>SMITH</td>\n",
       "      <td>MARY.SMITH@sakilacustomer.org</td>\n",
       "      <td>1</td>\n",
       "      <td>2006-02-14 22:04:36</td>\n",
       "      <td>1</td>\n",
       "      <td>76</td>\n",
       "      <td>2.99</td>\n",
       "      <td>2005-05-25</td>\n",
       "      <td>1</td>\n",
       "      <td>1</td>\n",
       "      <td>1</td>\n",
       "      <td>1</td>\n",
       "      <td>1</td>\n",
       "      <td>NaN</td>\n",
       "      <td>NaN</td>\n",
       "    </tr>\n",
       "    <tr>\n",
       "      <th>1</th>\n",
       "      <td>MARY</td>\n",
       "      <td>SMITH</td>\n",
       "      <td>MARY.SMITH@sakilacustomer.org</td>\n",
       "      <td>1</td>\n",
       "      <td>2006-02-14 22:04:36</td>\n",
       "      <td>1</td>\n",
       "      <td>573</td>\n",
       "      <td>0.99</td>\n",
       "      <td>2005-05-28</td>\n",
       "      <td>1</td>\n",
       "      <td>1</td>\n",
       "      <td>1</td>\n",
       "      <td>2</td>\n",
       "      <td>1</td>\n",
       "      <td>NaN</td>\n",
       "      <td>NaN</td>\n",
       "    </tr>\n",
       "  </tbody>\n",
       "</table>\n",
       "</div>"
      ],
      "text/plain": [
       "  first_name last_name                          email  active  \\\n",
       "0       MARY     SMITH  MARY.SMITH@sakilacustomer.org       1   \n",
       "1       MARY     SMITH  MARY.SMITH@sakilacustomer.org       1   \n",
       "\n",
       "          create_date  staff_id  rental_id  amount payment_date  \\\n",
       "0 2006-02-14 22:04:36         1         76    2.99   2005-05-25   \n",
       "1 2006-02-14 22:04:36         1        573    0.99   2005-05-28   \n",
       "\n",
       "   manager_staff_id  address_id  customer_key  payment_key  store_key  \\\n",
       "0                 1           1             1            1          1   \n",
       "1                 1           1             1            2          1   \n",
       "\n",
       "  payment_x payment_y  \n",
       "0       NaN       NaN  \n",
       "1       NaN       NaN  "
      ]
     },
     "execution_count": 117,
     "metadata": {},
     "output_type": "execute_result"
    }
   ],
   "source": [
    "df_dim_payment = df_dim_date.rename(columns={\"date_key\" : \"payment\", \"full_date\" : \"payment_date\"})\n",
    "df_fact_orders.payment_date = df_fact_orders.payment_date.astype('datetime64[ns]').dt.date\n",
    "\n",
    "df_fact_orders = pd.merge(df_fact_orders, df_dim_payment, on='payment_date', how='left')\n",
    "df_fact_orders.head(2)"
   ]
  },
  {
   "cell_type": "markdown",
   "id": "ed7941ba-f9c7-4a5c-8884-806afac4f133",
   "metadata": {},
   "source": [
    "#### Inserting 'fact_order_key' into the Fact Order Table"
   ]
  },
  {
   "cell_type": "code",
   "execution_count": 120,
   "id": "3be096f0-d453-4ddb-98f6-3b5f4baab35d",
   "metadata": {},
   "outputs": [
    {
     "data": {
      "text/html": [
       "<div>\n",
       "<style scoped>\n",
       "    .dataframe tbody tr th:only-of-type {\n",
       "        vertical-align: middle;\n",
       "    }\n",
       "\n",
       "    .dataframe tbody tr th {\n",
       "        vertical-align: top;\n",
       "    }\n",
       "\n",
       "    .dataframe thead th {\n",
       "        text-align: right;\n",
       "    }\n",
       "</style>\n",
       "<table border=\"1\" class=\"dataframe\">\n",
       "  <thead>\n",
       "    <tr style=\"text-align: right;\">\n",
       "      <th></th>\n",
       "      <th>fact_order_key</th>\n",
       "      <th>first_name</th>\n",
       "      <th>last_name</th>\n",
       "      <th>email</th>\n",
       "      <th>active</th>\n",
       "      <th>create_date</th>\n",
       "      <th>staff_id</th>\n",
       "      <th>rental_id</th>\n",
       "      <th>amount</th>\n",
       "      <th>payment_date</th>\n",
       "      <th>manager_staff_id</th>\n",
       "      <th>address_id</th>\n",
       "      <th>customer_key</th>\n",
       "      <th>payment_key</th>\n",
       "      <th>store_key</th>\n",
       "      <th>payment_x</th>\n",
       "      <th>payment_y</th>\n",
       "    </tr>\n",
       "  </thead>\n",
       "  <tbody>\n",
       "    <tr>\n",
       "      <th>0</th>\n",
       "      <td>1</td>\n",
       "      <td>MARY</td>\n",
       "      <td>SMITH</td>\n",
       "      <td>MARY.SMITH@sakilacustomer.org</td>\n",
       "      <td>1</td>\n",
       "      <td>2006-02-14 22:04:36</td>\n",
       "      <td>1</td>\n",
       "      <td>76</td>\n",
       "      <td>2.99</td>\n",
       "      <td>2005-05-25</td>\n",
       "      <td>1</td>\n",
       "      <td>1</td>\n",
       "      <td>1</td>\n",
       "      <td>1</td>\n",
       "      <td>1</td>\n",
       "      <td>NaN</td>\n",
       "      <td>NaN</td>\n",
       "    </tr>\n",
       "    <tr>\n",
       "      <th>1</th>\n",
       "      <td>2</td>\n",
       "      <td>MARY</td>\n",
       "      <td>SMITH</td>\n",
       "      <td>MARY.SMITH@sakilacustomer.org</td>\n",
       "      <td>1</td>\n",
       "      <td>2006-02-14 22:04:36</td>\n",
       "      <td>1</td>\n",
       "      <td>573</td>\n",
       "      <td>0.99</td>\n",
       "      <td>2005-05-28</td>\n",
       "      <td>1</td>\n",
       "      <td>1</td>\n",
       "      <td>1</td>\n",
       "      <td>2</td>\n",
       "      <td>1</td>\n",
       "      <td>NaN</td>\n",
       "      <td>NaN</td>\n",
       "    </tr>\n",
       "  </tbody>\n",
       "</table>\n",
       "</div>"
      ],
      "text/plain": [
       "   fact_order_key first_name last_name                          email  active  \\\n",
       "0               1       MARY     SMITH  MARY.SMITH@sakilacustomer.org       1   \n",
       "1               2       MARY     SMITH  MARY.SMITH@sakilacustomer.org       1   \n",
       "\n",
       "          create_date  staff_id  rental_id  amount payment_date  \\\n",
       "0 2006-02-14 22:04:36         1         76    2.99   2005-05-25   \n",
       "1 2006-02-14 22:04:36         1        573    0.99   2005-05-28   \n",
       "\n",
       "   manager_staff_id  address_id  customer_key  payment_key  store_key  \\\n",
       "0                 1           1             1            1          1   \n",
       "1                 1           1             1            2          1   \n",
       "\n",
       "  payment_x payment_y  \n",
       "0       NaN       NaN  \n",
       "1       NaN       NaN  "
      ]
     },
     "execution_count": 120,
     "metadata": {},
     "output_type": "execute_result"
    }
   ],
   "source": [
    "df_fact_orders.insert(0, 'fact_order_key', range(1, df_fact_orders.shape[0]+1))\n",
    "df_fact_orders.head(2)"
   ]
  },
  {
   "cell_type": "markdown",
   "id": "3f67363b-ce30-466b-883b-1d3a63eb2d8a",
   "metadata": {},
   "source": [
    "### Setting the Fact Order Dataframe so it Appears as a Table in sakila_dw"
   ]
  },
  {
   "cell_type": "markdown",
   "id": "041e13b1-ab5b-40cb-845a-d24d70a4e6c0",
   "metadata": {},
   "source": [
    "#### Ensuring Fact Orders is now a Table"
   ]
  },
  {
   "cell_type": "code",
   "execution_count": 124,
   "id": "83836a05-433c-4947-991b-3541e42cc821",
   "metadata": {},
   "outputs": [],
   "source": [
    "table_name = \"fact_orders\"\n",
    "pk_column = \"fact_order_key\"\n",
    "db_operation = \"insert\"\n",
    "db_name = \"sakila_dw\"\n",
    "df = df_fact_orders\n",
    "\n",
    "\n",
    "set_sql_dataframe(user_id, pwd, host_name, db_name, df, table_name, pk_column, db_operation)"
   ]
  },
  {
   "cell_type": "markdown",
   "id": "10ee7b3d-047e-4ea5-8876-eb397931b665",
   "metadata": {},
   "source": [
    "### Demonstrate the the New Data Warehouse Exists"
   ]
  },
  {
   "cell_type": "markdown",
   "id": "9a78f3b8-a1c4-4858-8cfc-e20b693c0a8b",
   "metadata": {},
   "source": [
    "#### Goal is to Have the Top Spending Custoemers Listed in Descending Order with the Amount they Spent and at What Store"
   ]
  },
  {
   "cell_type": "code",
   "execution_count": 128,
   "id": "d7ea9318-bb58-4107-8be1-7a4e3891cdf1",
   "metadata": {},
   "outputs": [
    {
     "data": {
      "text/html": [
       "<div>\n",
       "<style scoped>\n",
       "    .dataframe tbody tr th:only-of-type {\n",
       "        vertical-align: middle;\n",
       "    }\n",
       "\n",
       "    .dataframe tbody tr th {\n",
       "        vertical-align: top;\n",
       "    }\n",
       "\n",
       "    .dataframe thead th {\n",
       "        text-align: right;\n",
       "    }\n",
       "</style>\n",
       "<table border=\"1\" class=\"dataframe\">\n",
       "  <thead>\n",
       "    <tr style=\"text-align: right;\">\n",
       "      <th></th>\n",
       "      <th>Store</th>\n",
       "      <th>Customer First Name</th>\n",
       "      <th>Customer Last Name</th>\n",
       "      <th>Total Spent</th>\n",
       "    </tr>\n",
       "  </thead>\n",
       "  <tbody>\n",
       "    <tr>\n",
       "      <th>0</th>\n",
       "      <td>2</td>\n",
       "      <td>KARL</td>\n",
       "      <td>SEAL</td>\n",
       "      <td>221.55</td>\n",
       "    </tr>\n",
       "    <tr>\n",
       "      <th>1</th>\n",
       "      <td>1</td>\n",
       "      <td>ELEANOR</td>\n",
       "      <td>HUNT</td>\n",
       "      <td>216.54</td>\n",
       "    </tr>\n",
       "    <tr>\n",
       "      <th>2</th>\n",
       "      <td>1</td>\n",
       "      <td>CLARA</td>\n",
       "      <td>SHAW</td>\n",
       "      <td>195.58</td>\n",
       "    </tr>\n",
       "    <tr>\n",
       "      <th>3</th>\n",
       "      <td>2</td>\n",
       "      <td>RHONDA</td>\n",
       "      <td>KENNEDY</td>\n",
       "      <td>194.61</td>\n",
       "    </tr>\n",
       "    <tr>\n",
       "      <th>4</th>\n",
       "      <td>2</td>\n",
       "      <td>MARION</td>\n",
       "      <td>SNYDER</td>\n",
       "      <td>194.61</td>\n",
       "    </tr>\n",
       "  </tbody>\n",
       "</table>\n",
       "</div>"
      ],
      "text/plain": [
       "   Store Customer First Name Customer Last Name  Total Spent\n",
       "0      2                KARL               SEAL       221.55\n",
       "1      1             ELEANOR               HUNT       216.54\n",
       "2      1               CLARA               SHAW       195.58\n",
       "3      2              RHONDA            KENNEDY       194.61\n",
       "4      2              MARION             SNYDER       194.61"
      ]
     },
     "execution_count": 128,
     "metadata": {},
     "output_type": "execute_result"
    }
   ],
   "source": [
    "sql_test = \"\"\"\n",
    "    SELECT store.store_key AS `Store`,\n",
    "        customer.first_name AS `Customer First Name`,\n",
    "        customer.last_name AS `Customer Last Name`,\n",
    "        SUM(orders.amount) AS `Total Spent`\n",
    "    FROM `{0}`.fact_orders AS orders\n",
    "    INNER JOIN `{0}`.dim_customer AS customer\n",
    "    ON orders.customer_key = customer.customer_key\n",
    "    INNER JOIN `{0}`.dim_store AS store\n",
    "    ON orders.store_key = store.store_key\n",
    "    GROUP BY store.store_key, customer.first_name, customer.last_name\n",
    "    ORDER BY `Total Spent` DESC;\n",
    "\"\"\".format(dst_dbname)\n",
    "\n",
    "df_test = get_dataframe(user_id, pwd, host_name, db_name, sql_test)\n",
    "df_test.head()"
   ]
  }
 ],
 "metadata": {
  "kernelspec": {
   "display_name": "Python 3 (ipykernel)",
   "language": "python",
   "name": "python3"
  },
  "language_info": {
   "codemirror_mode": {
    "name": "ipython",
    "version": 3
   },
   "file_extension": ".py",
   "mimetype": "text/x-python",
   "name": "python",
   "nbconvert_exporter": "python",
   "pygments_lexer": "ipython3",
   "version": "3.12.4"
  }
 },
 "nbformat": 4,
 "nbformat_minor": 5
}
